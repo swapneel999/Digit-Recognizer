{
  "nbformat": 4,
  "nbformat_minor": 0,
  "metadata": {
    "colab": {
      "name": "MNSIT.ipynb",
      "provenance": [],
      "collapsed_sections": []
    },
    "kernelspec": {
      "name": "python3",
      "display_name": "Python 3"
    }
  },
  "cells": [
    {
      "cell_type": "code",
      "metadata": {
        "id": "YSPzrH48Ohis",
        "colab_type": "code",
        "colab": {}
      },
      "source": [
        "import tensorflow as tf\n",
        "import tensorflow.keras as keras\n",
        "import matplotlib.pyplot as plt"
      ],
      "execution_count": 1,
      "outputs": []
    },
    {
      "cell_type": "code",
      "metadata": {
        "id": "mNoL0wqmfIo6",
        "colab_type": "code",
        "colab": {
          "base_uri": "https://localhost:8080/",
          "height": 51
        },
        "outputId": "97a0baaf-d44f-42e8-82ed-7b3f97f785b4"
      },
      "source": [
        "sign = tf.keras.datasets.mnist\n",
        "(x_train, y_train),(x_test,y_test) = sign.load_data()"
      ],
      "execution_count": 2,
      "outputs": [
        {
          "output_type": "stream",
          "text": [
            "Downloading data from https://storage.googleapis.com/tensorflow/tf-keras-datasets/mnist.npz\n",
            "11493376/11490434 [==============================] - 0s 0us/step\n"
          ],
          "name": "stdout"
        }
      ]
    },
    {
      "cell_type": "code",
      "metadata": {
        "id": "2-17GwIKfkL4",
        "colab_type": "code",
        "colab": {
          "base_uri": "https://localhost:8080/",
          "height": 34
        },
        "outputId": "031e235d-a5d6-4b9e-9777-ef6f1fdbde30"
      },
      "source": [
        "x_train.shape"
      ],
      "execution_count": 3,
      "outputs": [
        {
          "output_type": "execute_result",
          "data": {
            "text/plain": [
              "(60000, 28, 28)"
            ]
          },
          "metadata": {
            "tags": []
          },
          "execution_count": 3
        }
      ]
    },
    {
      "cell_type": "code",
      "metadata": {
        "id": "ps4S0FABgBu6",
        "colab_type": "code",
        "colab": {
          "base_uri": "https://localhost:8080/",
          "height": 34
        },
        "outputId": "40db96ac-78eb-4dc4-926e-119e1c53034d"
      },
      "source": [
        "x_test.shape"
      ],
      "execution_count": 4,
      "outputs": [
        {
          "output_type": "execute_result",
          "data": {
            "text/plain": [
              "(10000, 28, 28)"
            ]
          },
          "metadata": {
            "tags": []
          },
          "execution_count": 4
        }
      ]
    },
    {
      "cell_type": "code",
      "metadata": {
        "id": "DLWU3KLKgHPp",
        "colab_type": "code",
        "colab": {
          "base_uri": "https://localhost:8080/",
          "height": 34
        },
        "outputId": "9ab66c36-6c37-4d05-c6d2-d90abdd5ad78"
      },
      "source": [
        "y_train.shape\n",
        "y_test.shape"
      ],
      "execution_count": 5,
      "outputs": [
        {
          "output_type": "execute_result",
          "data": {
            "text/plain": [
              "(10000,)"
            ]
          },
          "metadata": {
            "tags": []
          },
          "execution_count": 5
        }
      ]
    },
    {
      "cell_type": "code",
      "metadata": {
        "id": "T9j1lUL1ge-z",
        "colab_type": "code",
        "colab": {}
      },
      "source": [
        ""
      ],
      "execution_count": null,
      "outputs": []
    },
    {
      "cell_type": "code",
      "metadata": {
        "id": "1sX7ENOqgo1e",
        "colab_type": "code",
        "colab": {
          "base_uri": "https://localhost:8080/",
          "height": 282
        },
        "outputId": "5e1e3053-fa74-442b-a701-2b94ac83bb81"
      },
      "source": [
        "plt.imshow(x_train[569], cmap = 'gray')\n",
        "plt.show"
      ],
      "execution_count": 6,
      "outputs": [
        {
          "output_type": "execute_result",
          "data": {
            "text/plain": [
              "<function matplotlib.pyplot.show>"
            ]
          },
          "metadata": {
            "tags": []
          },
          "execution_count": 6
        },
        {
          "output_type": "display_data",
          "data": {
            "image/png": "[encoded data removed]",
            "text/plain": [
              "<Figure size 432x288 with 1 Axes>"
            ]
          },
          "metadata": {
            "tags": [],
            "needs_background": "light"
          }
        }
      ]
    },
    {
      "cell_type": "code",
      "metadata": {
        "id": "Z3IaMci2mVty",
        "colab_type": "code",
        "colab": {}
      },
      "source": [
        "model = tf.keras.models.Sequential()\n",
        "model.add(tf.keras.layers.Flatten())\n",
        "model.add(tf.keras.layers.Dense(units= 512, activation='relu'))\n",
        "model.add(tf.keras.layers.Dense(units= 10, activation='softmax'))"
      ],
      "execution_count": 7,
      "outputs": []
    },
    {
      "cell_type": "code",
      "metadata": {
        "id": "TyANv3LynTCo",
        "colab_type": "code",
        "colab": {}
      },
      "source": [
        "model.compile(optimizer='adam', loss='sparse_categorical_crossentropy', metrics='accuracy')"
      ],
      "execution_count": 8,
      "outputs": []
    },
    {
      "cell_type": "code",
      "metadata": {
        "id": "QJMy0YN9nk0E",
        "colab_type": "code",
        "colab": {
          "base_uri": "https://localhost:8080/",
          "height": 1000
        },
        "outputId": "16707136-ecdc-4240-beae-5805f1c13105"
      },
      "source": [
        "history = model.fit(x_train,y_train,epochs=50)"
      ],
      "execution_count": 10,
      "outputs": [
        {
          "output_type": "stream",
          "text": [
            "Epoch 1/50\n",
            "1875/1875 [==============================] - 8s 4ms/step - loss: 0.3415 - accuracy: 0.9398\n",
            "Epoch 2/50\n",
            "1875/1875 [==============================] - 7s 4ms/step - loss: 0.2970 - accuracy: 0.9428\n",
            "Epoch 3/50\n",
            "1875/1875 [==============================] - 8s 4ms/step - loss: 0.2630 - accuracy: 0.9457\n",
            "Epoch 4/50\n",
            "1875/1875 [==============================] - 7s 4ms/step - loss: 0.2454 - accuracy: 0.9491\n",
            "Epoch 5/50\n",
            "1875/1875 [==============================] - 8s 4ms/step - loss: 0.2268 - accuracy: 0.9536\n",
            "Epoch 6/50\n",
            "1875/1875 [==============================] - 7s 4ms/step - loss: 0.2296 - accuracy: 0.9566\n",
            "Epoch 7/50\n",
            "1875/1875 [==============================] - 8s 4ms/step - loss: 0.2020 - accuracy: 0.9582\n",
            "Epoch 8/50\n",
            "1875/1875 [==============================] - 7s 4ms/step - loss: 0.1912 - accuracy: 0.9609\n",
            "Epoch 9/50\n",
            "1875/1875 [==============================] - 7s 4ms/step - loss: 0.1919 - accuracy: 0.9615\n",
            "Epoch 10/50\n",
            "1875/1875 [==============================] - 7s 4ms/step - loss: 0.1827 - accuracy: 0.9645\n",
            "Epoch 11/50\n",
            "1875/1875 [==============================] - 7s 4ms/step - loss: 0.1771 - accuracy: 0.9645\n",
            "Epoch 12/50\n",
            "1875/1875 [==============================] - 7s 4ms/step - loss: 0.1580 - accuracy: 0.9670\n",
            "Epoch 13/50\n",
            "1875/1875 [==============================] - 7s 4ms/step - loss: 0.1571 - accuracy: 0.9688\n",
            "Epoch 14/50\n",
            "1875/1875 [==============================] - 7s 4ms/step - loss: 0.1682 - accuracy: 0.9673\n",
            "Epoch 15/50\n",
            "1875/1875 [==============================] - 7s 4ms/step - loss: 0.1649 - accuracy: 0.9679\n",
            "Epoch 16/50\n",
            "1875/1875 [==============================] - 7s 4ms/step - loss: 0.1638 - accuracy: 0.9712\n",
            "Epoch 17/50\n",
            "1875/1875 [==============================] - 7s 4ms/step - loss: 0.1384 - accuracy: 0.9725\n",
            "Epoch 18/50\n",
            "1875/1875 [==============================] - 7s 4ms/step - loss: 0.1695 - accuracy: 0.9701\n",
            "Epoch 19/50\n",
            "1875/1875 [==============================] - 7s 4ms/step - loss: 0.1615 - accuracy: 0.9708\n",
            "Epoch 20/50\n",
            "1875/1875 [==============================] - 7s 4ms/step - loss: 0.1448 - accuracy: 0.9744\n",
            "Epoch 21/50\n",
            "1875/1875 [==============================] - 7s 4ms/step - loss: 0.1445 - accuracy: 0.9742\n",
            "Epoch 22/50\n",
            "1875/1875 [==============================] - 7s 4ms/step - loss: 0.1476 - accuracy: 0.9732\n",
            "Epoch 23/50\n",
            "1875/1875 [==============================] - 7s 4ms/step - loss: 0.1449 - accuracy: 0.9729\n",
            "Epoch 24/50\n",
            "1875/1875 [==============================] - 7s 4ms/step - loss: 0.1501 - accuracy: 0.9747\n",
            "Epoch 25/50\n",
            "1875/1875 [==============================] - 7s 4ms/step - loss: 0.1282 - accuracy: 0.9760\n",
            "Epoch 26/50\n",
            "1875/1875 [==============================] - 7s 4ms/step - loss: 0.1481 - accuracy: 0.9752\n",
            "Epoch 27/50\n",
            "1875/1875 [==============================] - 7s 4ms/step - loss: 0.1305 - accuracy: 0.9769\n",
            "Epoch 28/50\n",
            "1875/1875 [==============================] - 7s 4ms/step - loss: 0.1485 - accuracy: 0.9748\n",
            "Epoch 29/50\n",
            "1875/1875 [==============================] - 8s 4ms/step - loss: 0.1341 - accuracy: 0.9766\n",
            "Epoch 30/50\n",
            "1875/1875 [==============================] - 8s 4ms/step - loss: 0.1219 - accuracy: 0.9761\n",
            "Epoch 31/50\n",
            "1875/1875 [==============================] - 7s 4ms/step - loss: 0.1333 - accuracy: 0.9759\n",
            "Epoch 32/50\n",
            "1875/1875 [==============================] - 7s 4ms/step - loss: 0.1331 - accuracy: 0.9772\n",
            "Epoch 33/50\n",
            "1875/1875 [==============================] - 7s 4ms/step - loss: 0.1194 - accuracy: 0.9789\n",
            "Epoch 34/50\n",
            "1875/1875 [==============================] - 7s 4ms/step - loss: 0.1316 - accuracy: 0.9777\n",
            "Epoch 35/50\n",
            "1875/1875 [==============================] - 7s 4ms/step - loss: 0.1223 - accuracy: 0.9782\n",
            "Epoch 36/50\n",
            "1875/1875 [==============================] - 7s 4ms/step - loss: 0.1424 - accuracy: 0.9765\n",
            "Epoch 37/50\n",
            "1875/1875 [==============================] - 7s 4ms/step - loss: 0.1381 - accuracy: 0.9774\n",
            "Epoch 38/50\n",
            "1875/1875 [==============================] - 7s 4ms/step - loss: 0.1289 - accuracy: 0.9786\n",
            "Epoch 39/50\n",
            "1875/1875 [==============================] - 7s 4ms/step - loss: 0.1241 - accuracy: 0.9792\n",
            "Epoch 40/50\n",
            "1875/1875 [==============================] - 8s 4ms/step - loss: 0.1256 - accuracy: 0.9789\n",
            "Epoch 41/50\n",
            "1875/1875 [==============================] - 8s 4ms/step - loss: 0.1200 - accuracy: 0.9794\n",
            "Epoch 42/50\n",
            "1875/1875 [==============================] - 8s 4ms/step - loss: 0.1390 - accuracy: 0.9782\n",
            "Epoch 43/50\n",
            "1875/1875 [==============================] - 7s 4ms/step - loss: 0.1210 - accuracy: 0.9782\n",
            "Epoch 44/50\n",
            "1875/1875 [==============================] - 7s 4ms/step - loss: 0.1218 - accuracy: 0.9796\n",
            "Epoch 45/50\n",
            "1875/1875 [==============================] - 7s 4ms/step - loss: 0.1146 - accuracy: 0.9799\n",
            "Epoch 46/50\n",
            "1875/1875 [==============================] - 7s 4ms/step - loss: 0.1011 - accuracy: 0.9821\n",
            "Epoch 47/50\n",
            "1875/1875 [==============================] - 7s 4ms/step - loss: 0.1368 - accuracy: 0.9797\n",
            "Epoch 48/50\n",
            "1875/1875 [==============================] - 7s 4ms/step - loss: 0.1299 - accuracy: 0.9808\n",
            "Epoch 49/50\n",
            "1875/1875 [==============================] - 7s 4ms/step - loss: 0.1192 - accuracy: 0.9811\n",
            "Epoch 50/50\n",
            "1875/1875 [==============================] - 7s 4ms/step - loss: 0.1173 - accuracy: 0.9807\n"
          ],
          "name": "stdout"
        }
      ]
    },
    {
      "cell_type": "code",
      "metadata": {
        "id": "Fe3BXp09n2ej",
        "colab_type": "code",
        "colab": {
          "base_uri": "https://localhost:8080/",
          "height": 88
        },
        "outputId": "745dac09-65df-4abc-fa42-3627d7fbe7f8"
      },
      "source": [
        "y_pred = model.predict_classes(x_test)"
      ],
      "execution_count": 11,
      "outputs": [
        {
          "output_type": "stream",
          "text": [
            "WARNING:tensorflow:From <ipython-input-11-bae1a118294d>:1: Sequential.predict_classes (from tensorflow.python.keras.engine.sequential) is deprecated and will be removed after 2021-01-01.\n",
            "Instructions for updating:\n",
            "Please use instead:* `np.argmax(model.predict(x), axis=-1)`,   if your model does multi-class classification   (e.g. if it uses a `softmax` last-layer activation).* `(model.predict(x) > 0.5).astype(\"int32\")`,   if your model does binary classification   (e.g. if it uses a `sigmoid` last-layer activation).\n"
          ],
          "name": "stdout"
        }
      ]
    },
    {
      "cell_type": "code",
      "metadata": {
        "id": "ITJsNYHhy1Wa",
        "colab_type": "code",
        "colab": {
          "base_uri": "https://localhost:8080/",
          "height": 34
        },
        "outputId": "cf17c4c7-6861-4751-b113-f31b17164941"
      },
      "source": [
        "import numpy as np\n",
        "np.argmax(model.predict(x_test), axis=-1)"
      ],
      "execution_count": 12,
      "outputs": [
        {
          "output_type": "execute_result",
          "data": {
            "text/plain": [
              "array([7, 2, 1, ..., 4, 5, 6])"
            ]
          },
          "metadata": {
            "tags": []
          },
          "execution_count": 12
        }
      ]
    },
    {
      "cell_type": "code",
      "metadata": {
        "id": "WjshLyVPzAxE",
        "colab_type": "code",
        "colab": {}
      },
      "source": [
        "from sklearn.metrics import accuracy_score,confusion_matrix"
      ],
      "execution_count": 13,
      "outputs": []
    },
    {
      "cell_type": "code",
      "metadata": {
        "id": "dguysqUazZRo",
        "colab_type": "code",
        "colab": {
          "base_uri": "https://localhost:8080/",
          "height": 34
        },
        "outputId": "d99c9241-6adb-426e-f178-95f17159ad84"
      },
      "source": [
        "accuracy_score(y_pred,y_test)"
      ],
      "execution_count": 14,
      "outputs": [
        {
          "output_type": "execute_result",
          "data": {
            "text/plain": [
              "0.9595"
            ]
          },
          "metadata": {
            "tags": []
          },
          "execution_count": 14
        }
      ]
    },
    {
      "cell_type": "code",
      "metadata": {
        "id": "VuVO6xb9zoYL",
        "colab_type": "code",
        "colab": {
          "base_uri": "https://localhost:8080/",
          "height": 282
        },
        "outputId": "a93f0c00-bc50-4bd3-e146-51949b56482b"
      },
      "source": [
        "plt.plot(history.history['accuracy'])"
      ],
      "execution_count": 15,
      "outputs": [
        {
          "output_type": "execute_result",
          "data": {
            "text/plain": [
              "[<matplotlib.lines.Line2D at 0x7fa4a62c56a0>]"
            ]
          },
          "metadata": {
            "tags": []
          },
          "execution_count": 15
        },
        {
          "output_type": "display_data",
          "data": {
            "image/png": "[encoded data removed]",
            "text/plain": [
              "<Figure size 432x288 with 1 Axes>"
            ]
          },
          "metadata": {
            "tags": [],
            "needs_background": "light"
          }
        }
      ]
    },
    {
      "cell_type": "code",
      "metadata": {
        "id": "47eVlXJl1Wgv",
        "colab_type": "code",
        "colab": {
          "base_uri": "https://localhost:8080/",
          "height": 1000
        },
        "outputId": "04f75d4a-e792-4909-e48c-a8b49ee3d083"
      },
      "source": [
        "model.get_weights()"
      ],
      "execution_count": null,
      "outputs": [
        {
          "output_type": "execute_result",
          "data": {
            "text/plain": [
              "[array([[ 0.00153556,  0.02787235, -0.05235711, ...,  0.02080376,\n",
              "         -0.03935795,  0.04977152],\n",
              "        [ 0.02162895,  0.00044549, -0.02117803, ..., -0.01599561,\n",
              "         -0.06012645, -0.05213649],\n",
              "        [ 0.00758973, -0.05777463,  0.05019431, ..., -0.04263142,\n",
              "          0.03387957,  0.0276222 ],\n",
              "        ...,\n",
              "        [ 0.01730979,  0.06137548, -0.04595179, ...,  0.0010829 ,\n",
              "         -0.04642759, -0.06370707],\n",
              "        [-0.03265677, -0.03550567,  0.0239408 , ..., -0.06767219,\n",
              "         -0.03496141, -0.05452014],\n",
              "        [-0.0256389 , -0.01504384,  0.03460979, ..., -0.02689296,\n",
              "         -0.02164327,  0.03010389]], dtype=float32),\n",
              " array([-2.33262088e-02, -4.77716066e-02, -2.84558367e-02, -3.01939361e-02,\n",
              "        -8.61672964e-03, -1.87986061e-01, -4.15694326e-01, -3.91817801e-02,\n",
              "        -2.51353793e-02, -3.28343660e-01, -3.67877111e-02, -6.82706460e-02,\n",
              "        -4.05059680e-02, -2.09331866e-02, -4.70186360e-02, -6.16121143e-02,\n",
              "        -1.18313208e-01, -3.26916799e-02, -2.06827968e-01, -3.56790684e-02,\n",
              "        -1.56342939e-01, -2.00140644e-02, -6.56950176e-02, -2.56023426e-02,\n",
              "        -2.70052046e-01, -7.61353225e-02, -4.28073332e-02, -1.53222280e-02,\n",
              "        -2.06103206e-01, -2.44470593e-02, -1.04589179e-01, -7.77453482e-02,\n",
              "        -8.34951829e-03, -5.73291304e-03, -3.72365229e-02, -1.36615440e-01,\n",
              "        -2.76084580e-02, -1.69553072e-03, -7.00274333e-02, -7.37139732e-02,\n",
              "         2.04216049e-04, -2.73151472e-02, -4.02209647e-02, -2.35580038e-02,\n",
              "        -9.20799971e-02, -6.08307347e-02, -4.49921899e-02, -6.70113936e-02,\n",
              "        -6.30591661e-02, -3.78619917e-02, -2.15524167e-01, -6.01647086e-02,\n",
              "        -6.73405975e-02, -3.78996953e-02, -2.33004931e-02, -7.28575587e-02,\n",
              "        -1.84023753e-02, -3.57530624e-01, -6.17201701e-02, -1.47862911e-01,\n",
              "        -3.31635363e-02, -4.59153093e-02, -2.48739626e-02, -1.09439753e-01,\n",
              "        -1.54629098e-02, -4.74590510e-02, -3.40479240e-02, -3.93037535e-02,\n",
              "        -1.21657766e-01, -5.46133146e-02, -5.86112976e-01, -3.52912731e-02,\n",
              "        -1.02561153e-01, -7.30088875e-02, -1.34503588e-01, -3.38021815e-02,\n",
              "        -1.48561839e-02, -7.38953575e-02, -8.62506554e-02, -3.99952345e-02,\n",
              "        -1.18978366e-01, -4.56477106e-02, -5.70856221e-02, -5.10824956e-02,\n",
              "        -5.18618189e-02, -3.81840430e-02, -3.14858258e-02, -3.90848331e-02,\n",
              "        -3.99226248e-02, -2.74907529e-01, -4.28985618e-02, -1.24962531e-01,\n",
              "        -3.23064923e-02, -4.70772088e-02, -2.07327716e-02, -2.81967651e-02,\n",
              "        -4.52045947e-02, -9.01603792e-03, -3.85848582e-02, -2.89658252e-02,\n",
              "        -3.64359356e-02, -1.62695333e-01, -7.61865452e-02, -7.56971091e-02,\n",
              "        -5.35836555e-02, -2.87560448e-02, -2.46712603e-02, -2.58122414e-01,\n",
              "        -4.09411453e-02, -1.57821491e-01, -9.10637081e-02, -1.24146491e-01,\n",
              "        -3.39354537e-02, -1.20289385e-01, -2.90722791e-02, -6.09097928e-02,\n",
              "        -7.47693256e-02, -1.58274025e-02, -4.58254367e-02,  6.40473235e-03,\n",
              "        -4.59274873e-02, -4.66969386e-02, -4.49392311e-02, -1.13078713e-01,\n",
              "        -7.52037242e-02, -3.23560312e-02, -1.64089892e-02, -2.83466540e-02,\n",
              "        -5.01709580e-02, -3.20787951e-02, -7.27573559e-02, -3.73246521e-02,\n",
              "        -6.29679337e-02, -2.66558617e-01, -2.75291689e-02, -3.09050791e-02,\n",
              "        -4.69771512e-02, -3.18031311e-01, -3.73969972e-02, -7.51373097e-02,\n",
              "        -3.83907855e-02, -1.07843250e-01, -2.28774715e-02, -2.86782142e-02,\n",
              "        -4.32172939e-02, -3.59036237e-01, -6.76222369e-02, -2.61787593e-01,\n",
              "        -2.57977918e-02, -1.90649465e-01, -5.57576679e-02, -1.30556524e-01,\n",
              "        -2.99923378e-03, -1.49968527e-02, -3.83098871e-02, -5.67787923e-02,\n",
              "        -2.98176948e-02, -5.35327755e-02, -7.28055760e-02, -4.87108715e-02,\n",
              "        -2.22620647e-02, -6.37912452e-02, -2.98417136e-02, -6.04579747e-02,\n",
              "        -1.66920364e-01, -4.54400778e-02, -8.77744146e-03, -4.12751585e-02,\n",
              "        -7.99938068e-02, -3.84773500e-02, -6.56275302e-02, -4.23429795e-02,\n",
              "         1.68117061e-02, -1.20213807e-01,  1.45329982e-02, -1.47466645e-01,\n",
              "        -9.02340338e-02, -3.30256522e-02, -5.52565418e-02, -3.04320361e-02,\n",
              "        -3.11449338e-02, -2.32705757e-01, -3.33705954e-02, -4.03986759e-02,\n",
              "        -1.46275997e-01, -5.25578670e-02, -9.96578038e-02,  5.94080752e-03,\n",
              "        -6.30376488e-02, -4.29021418e-02, -1.71262115e-01, -1.12293944e-01,\n",
              "        -9.39331725e-02, -9.64622423e-02, -4.66593951e-02, -1.78263485e-01,\n",
              "         2.87026856e-02, -4.54159975e-02, -2.35632420e-01, -4.73578013e-02,\n",
              "        -1.61211770e-02, -1.20316939e-02, -2.88144536e-02, -2.59147156e-02,\n",
              "        -8.54029134e-02, -2.40256160e-01, -7.95298517e-02, -7.37007335e-02,\n",
              "        -4.38457355e-02, -3.59391235e-02, -1.11269899e-01, -6.86951578e-02,\n",
              "        -1.11087076e-01, -8.23076367e-02, -2.08675340e-02, -1.34717077e-01,\n",
              "        -6.03497289e-02, -1.66837815e-02, -5.28327264e-02, -1.47231385e-01,\n",
              "        -4.90645804e-02, -4.47338261e-03, -1.34490997e-01, -3.44684385e-02,\n",
              "        -4.96529527e-02, -1.49799902e-02, -1.69901609e-01, -9.01852548e-02,\n",
              "        -5.12738042e-02, -2.04707757e-02, -1.92229282e-02, -4.16668206e-02,\n",
              "        -8.18824843e-02, -3.59762385e-02, -7.25870058e-02, -3.95533480e-02,\n",
              "        -2.77976878e-02, -2.85524223e-02, -1.74749829e-02, -1.56024843e-01,\n",
              "        -3.86398405e-01, -6.64998367e-02, -4.29432727e-02, -7.51219168e-02,\n",
              "        -2.90101562e-02, -3.16318534e-02, -1.93782181e-01,  1.70974359e-01,\n",
              "        -7.68390521e-02, -5.82240298e-02, -1.08989462e-01, -3.22449021e-02,\n",
              "        -1.90366674e-02, -4.44068052e-02, -5.87133504e-02, -3.52229625e-02,\n",
              "        -2.85113640e-02, -2.37235755e-01, -2.17604842e-02, -1.03437632e-01,\n",
              "        -8.04081783e-02, -4.52267798e-03, -5.28779402e-02, -3.07696536e-02,\n",
              "        -3.19531001e-02, -4.34357375e-02, -4.29700688e-02, -9.70782191e-02,\n",
              "        -9.10931081e-02, -1.12930819e-01, -4.10595499e-02,  6.47355476e-03,\n",
              "        -4.98030409e-02, -5.84367774e-02, -1.18004687e-01, -5.84871806e-02,\n",
              "        -4.38236147e-02, -7.47042969e-02, -2.77214870e-02, -4.16740999e-02,\n",
              "        -3.81900743e-02, -7.12499171e-02, -4.02892679e-02, -1.45712748e-01,\n",
              "        -1.87302213e-02, -6.39993027e-02, -5.45864291e-02, -1.02263294e-01,\n",
              "        -6.83536679e-02, -6.74357265e-02, -2.42404565e-02, -7.94328302e-02,\n",
              "        -1.36446267e-01, -8.64188075e-02,  1.39041757e-02, -1.24368696e-02,\n",
              "        -3.08431983e-02, -4.25469726e-02, -3.14063132e-02, -8.33814070e-02,\n",
              "        -3.96322235e-02, -2.21848652e-01, -1.69836298e-01, -1.01443022e-01,\n",
              "        -5.21756001e-02, -3.11436970e-02, -2.38106862e-01, -2.13651769e-02,\n",
              "        -2.44166702e-02, -4.98679541e-02, -1.66111991e-01, -1.55779988e-01,\n",
              "        -5.51265180e-02, -3.96324657e-02, -3.29410098e-02, -6.05196953e-02,\n",
              "        -3.02052833e-02, -3.90481763e-02, -4.85322587e-02, -2.07199119e-02,\n",
              "        -5.55755906e-02, -3.57524902e-01, -6.31133616e-02, -4.86134365e-02,\n",
              "        -8.73748064e-02, -2.11917982e-01, -1.30083933e-01,  1.39434099e-01,\n",
              "        -4.91906822e-01, -8.06697756e-02, -1.57519653e-01, -7.42761791e-02,\n",
              "        -3.56277600e-02, -8.70506540e-02, -3.07164714e-02, -1.26285478e-01,\n",
              "        -3.58757637e-02, -3.59504968e-02, -3.97095010e-02, -7.21096545e-02,\n",
              "        -6.04836196e-02, -1.21853814e-01, -6.97601140e-02, -4.75434065e-02,\n",
              "        -4.33338165e-01, -4.29538526e-02, -3.13955508e-02, -2.28667021e-01,\n",
              "        -5.87617531e-02, -7.20688701e-02, -5.69551401e-02, -5.04270159e-02,\n",
              "        -1.54266562e-02, -4.21908610e-02, -7.72626400e-02, -1.14149703e-02,\n",
              "        -6.23586364e-02, -7.04798549e-02, -4.25788969e-01, -2.69766990e-02,\n",
              "        -1.12967439e-01, -2.04118099e-02, -6.69446364e-02, -4.91690747e-02,\n",
              "        -3.60134281e-02, -7.36760199e-02, -1.83956251e-02, -5.74256629e-02,\n",
              "        -8.55721012e-02, -1.67786330e-02, -2.43440159e-02, -1.17096622e-02,\n",
              "        -9.50747132e-02, -3.73441875e-02, -2.18014851e-01, -5.34050949e-02,\n",
              "        -6.18471615e-02, -4.90495823e-02,  2.05354504e-02, -2.01172993e-01,\n",
              "        -8.38544443e-02, -6.99922740e-02, -3.80351506e-02, -1.04919024e-01,\n",
              "        -7.20355734e-02, -8.59824568e-02, -2.40305662e-02, -1.26379672e-02,\n",
              "        -8.21532011e-02, -1.27338395e-01, -7.32438415e-02, -4.67857160e-02,\n",
              "        -7.14506134e-02, -1.92775190e-01, -1.26561269e-01, -4.01455313e-02,\n",
              "         1.61908846e-02, -2.92660594e-02, -2.95490086e-01,  6.02352433e-02,\n",
              "        -1.04590198e-02, -6.99102506e-02, -4.42048535e-02, -4.56076674e-02,\n",
              "        -3.47764604e-02, -9.90954190e-02, -2.88745593e-02, -1.75844356e-02,\n",
              "        -4.85710688e-02, -4.60038260e-02, -6.39228150e-02, -2.13771254e-01,\n",
              "        -4.43084612e-02, -5.19929156e-02, -8.35404098e-02, -6.47028983e-02,\n",
              "        -4.20096815e-02, -3.15679759e-02, -2.10045488e-04,  4.52431617e-03,\n",
              "        -4.47979607e-02, -1.79468513e-01, -1.00239135e-01, -5.42076565e-02,\n",
              "        -8.44536796e-02, -9.68789831e-02, -5.69609642e-01, -4.96382639e-02,\n",
              "        -1.36218831e-01, -2.30837464e-02, -4.89027351e-02, -2.38679349e-02,\n",
              "        -2.60117743e-02, -6.96569830e-02, -6.81108162e-02, -7.94812664e-02,\n",
              "        -3.44097465e-02, -6.49250448e-02, -6.68708384e-02, -2.32238267e-02,\n",
              "        -4.57239226e-02, -5.96836768e-02, -1.14966124e-01, -4.08672661e-01,\n",
              "        -3.46899629e-02, -1.26186192e-01, -8.53955969e-02, -2.20381394e-02,\n",
              "        -8.59398022e-02, -1.37924906e-02, -1.69086885e-02, -5.59126325e-02,\n",
              "        -7.69800469e-02, -2.00740043e-02, -2.51767877e-02, -2.92155184e-02,\n",
              "        -8.52534771e-02, -1.00513451e-01, -3.23206410e-02, -4.37125675e-02,\n",
              "        -3.05826627e-02, -5.79954386e-01, -1.06258638e-01, -7.17146173e-02,\n",
              "        -2.05315217e-01, -3.16950157e-02, -7.99562335e-02, -6.62611350e-02,\n",
              "        -8.68823379e-03, -5.61196245e-02, -9.87191349e-02, -1.43661246e-01,\n",
              "        -6.45955503e-02, -3.59198637e-02, -4.54555638e-02, -4.07037623e-02,\n",
              "        -6.11034557e-02, -5.61175086e-02, -2.28948910e-02, -5.82611486e-02,\n",
              "        -2.72384677e-02, -3.35539520e-01, -3.47492211e-02, -7.72939920e-02,\n",
              "        -4.08096910e-02, -2.91767955e-01, -5.88596277e-02, -1.12020768e-01,\n",
              "        -4.23117401e-03,  6.23330381e-03, -3.71197984e-02, -2.26398762e-02,\n",
              "        -3.53082269e-02, -4.69053537e-02, -1.49415731e-02, -3.04231811e-02,\n",
              "        -7.30108544e-02, -6.49719909e-02, -6.41963407e-02, -2.41515934e-02,\n",
              "        -5.20866327e-02, -3.66343223e-02, -2.84898162e-01, -6.13881163e-02,\n",
              "        -2.89512947e-02, -1.28761753e-01, -1.59806579e-01,  1.28023000e-02,\n",
              "        -1.97059840e-01, -3.87430698e-01, -2.17195481e-01, -2.43062396e-02],\n",
              "       dtype=float32),\n",
              " array([[-0.09419166,  0.05536146,  0.06771094, ...,  0.07038269,\n",
              "          0.01483347,  0.00858127],\n",
              "        [ 0.03458728, -0.06616744,  0.00983092, ..., -0.00126914,\n",
              "         -0.10954652, -0.066783  ],\n",
              "        [ 0.01298049, -0.06391717,  0.05374838, ..., -0.08682551,\n",
              "          0.02600423,  0.00039233],\n",
              "        ...,\n",
              "        [-0.08014593, -0.27987814, -0.05873707, ...,  0.00145836,\n",
              "          0.01343135,  0.0370079 ],\n",
              "        [ 0.0060052 , -0.04009604,  0.09614051, ...,  0.03494828,\n",
              "         -0.00770884, -0.07987916],\n",
              "        [ 0.02684144, -0.05786926, -0.0744971 , ..., -0.1024078 ,\n",
              "          0.05457716,  0.03126099]], dtype=float32),\n",
              " array([ 0.8926968 , -0.6591607 , -0.06192745, -0.74656034, -0.6418286 ,\n",
              "        -0.75133044, -0.37610242, -1.1032372 ,  2.1677139 ,  0.40204376],\n",
              "       dtype=float32)]"
            ]
          },
          "metadata": {
            "tags": []
          },
          "execution_count": 41
        }
      ]
    },
    {
      "cell_type": "code",
      "metadata": {
        "id": "qguG9h6m138A",
        "colab_type": "code",
        "colab": {}
      },
      "source": [
        "model.save('model_mnist.h5')"
      ],
      "execution_count": 16,
      "outputs": []
    },
    {
      "cell_type": "code",
      "metadata": {
        "id": "if7Vw6kH3AOo",
        "colab_type": "code",
        "colab": {
          "base_uri": "https://localhost:8080/",
          "height": 265
        },
        "outputId": "67794dcf-cdd9-4526-bb38-b570d294b9d2"
      },
      "source": [
        "image_test = x_test[89]\n",
        "plt.imshow(image_test, cmap='gray')\n",
        "plt.show()"
      ],
      "execution_count": null,
      "outputs": [
        {
          "output_type": "display_data",
          "data": {
            "image/png": "[encoded data removed]",
            "text/plain": [
              "<Figure size 432x288 with 1 Axes>"
            ]
          },
          "metadata": {
            "tags": [],
            "needs_background": "light"
          }
        }
      ]
    },
    {
      "cell_type": "code",
      "metadata": {
        "id": "1ZDC1Rs02NcN",
        "colab_type": "code",
        "colab": {}
      },
      "source": [
        ""
      ],
      "execution_count": null,
      "outputs": []
    },
    {
      "cell_type": "code",
      "metadata": {
        "id": "NyPBI1Ax3yxr",
        "colab_type": "code",
        "colab": {
          "base_uri": "https://localhost:8080/",
          "height": 34
        },
        "outputId": "31c75874-b5b7-4930-c685-31c50f889934"
      },
      "source": [
        "pred = model.predict_classes(image_test_resize)\n",
        "print(pred)"
      ],
      "execution_count": null,
      "outputs": [
        {
          "output_type": "stream",
          "text": [
            "[1]\n"
          ],
          "name": "stdout"
        }
      ]
    },
    {
      "cell_type": "code",
      "metadata": {
        "id": "v81fTfUn315M",
        "colab_type": "code",
        "colab": {
          "base_uri": "https://localhost:8080/",
          "height": 255
        },
        "outputId": "edbf8b7f-0b01-4232-d32b-d249d684bcd1"
      },
      "source": [
        "model.summary()"
      ],
      "execution_count": null,
      "outputs": [
        {
          "output_type": "stream",
          "text": [
            "Model: \"sequential_2\"\n",
            "_________________________________________________________________\n",
            "Layer (type)                 Output Shape              Param #   \n",
            "=================================================================\n",
            "flatten_1 (Flatten)          (None, 784)               0         \n",
            "_________________________________________________________________\n",
            "dense_2 (Dense)              (None, 512)               401920    \n",
            "_________________________________________________________________\n",
            "dense_3 (Dense)              (None, 10)                5130      \n",
            "=================================================================\n",
            "Total params: 407,050\n",
            "Trainable params: 407,050\n",
            "Non-trainable params: 0\n",
            "_________________________________________________________________\n"
          ],
          "name": "stdout"
        }
      ]
    },
    {
      "cell_type": "code",
      "metadata": {
        "id": "xxJa1HAK4mm-",
        "colab_type": "code",
        "colab": {}
      },
      "source": [
        ""
      ],
      "execution_count": null,
      "outputs": []
    },
    {
      "cell_type": "code",
      "metadata": {
        "id": "2Tch9AOQ_4HA",
        "colab_type": "code",
        "colab": {}
      },
      "source": [
        ""
      ],
      "execution_count": null,
      "outputs": []
    }
  ]
}